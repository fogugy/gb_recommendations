{
 "cells": [
  {
   "cell_type": "markdown",
   "metadata": {},
   "source": [
    "**В чем принципиальное отличие гибридных рекомендательных систем от коллаборативной филтьтрации?**"
   ]
  },
  {
   "cell_type": "markdown",
   "metadata": {},
   "source": [
    "В гибридных системах скорее всего будет присутствовать коллаборативная фильтрация как часть системы."
   ]
  },
  {
   "cell_type": "markdown",
   "metadata": {},
   "source": [
    "**Приведите 2-3 примера задач, в которых необходимо использовать гибридные системы**"
   ]
  },
  {
   "cell_type": "markdown",
   "metadata": {},
   "source": [
    "- задачи с проблемой \"холодного старта\": новый юзер\n",
    "- рекомендательная система книг, выделяющая жанр или другую фичу по контенту или комментариям (типа неожиданный поворот =))"
   ]
  },
  {
   "cell_type": "code",
   "execution_count": null,
   "metadata": {},
   "outputs": [],
   "source": []
  }
 ],
 "metadata": {
  "kernelspec": {
   "display_name": "Python 3",
   "language": "python",
   "name": "python3"
  },
  "language_info": {
   "codemirror_mode": {
    "name": "ipython",
    "version": 3
   },
   "file_extension": ".py",
   "mimetype": "text/x-python",
   "name": "python",
   "nbconvert_exporter": "python",
   "pygments_lexer": "ipython3",
   "version": "3.7.5"
  }
 },
 "nbformat": 4,
 "nbformat_minor": 4
}
